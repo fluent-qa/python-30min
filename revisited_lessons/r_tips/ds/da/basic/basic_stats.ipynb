{
 "cells": [
  {
   "attachments": {},
   "cell_type": "markdown",
   "metadata": {},
   "source": [
    "## 方差\n",
    "- 总体方差\n",
    "- 基于概率模型的总体方差\n",
    "- 样本方差\n",
    "\n",
    "- https://zhuanlan.zhihu.com/p/35435231\n",
    "- https://www.zhihu.com/column/c_178173216\n",
    "- https://zh.khanacademy.org/"
   ]
  },
  {
   "cell_type": "code",
   "execution_count": null,
   "metadata": {},
   "outputs": [],
   "source": [
    "　import numpy as np\n",
    "  a1= np.array([0,0,5,5])\n",
    "  a2= np.array([2,2,3,3])\n",
    "  print (a1.var() , a2.var()) # 6.25 0.25\n",
    "  print (a1.std() ,a2.std()) # 2.5 0.5\n",
    "  print (a1.var(ddof=1) , a2.var(ddof=1)) #ddof = 1代表样本的方差和标准差\n",
    "  print (a1.std(ddof=1) ,a2.std(ddof=1)) "
   ]
  }
 ],
 "metadata": {
  "kernelspec": {
   "display_name": "Python 3",
   "language": "python",
   "name": "python3"
  },
  "language_info": {
   "codemirror_mode": {
    "name": "ipython",
    "version": 3
   },
   "file_extension": ".py",
   "mimetype": "text/x-python",
   "name": "python",
   "nbconvert_exporter": "python",
   "pygments_lexer": "ipython3",
   "version": "3.11.2"
  },
  "orig_nbformat": 4
 },
 "nbformat": 4,
 "nbformat_minor": 2
}
