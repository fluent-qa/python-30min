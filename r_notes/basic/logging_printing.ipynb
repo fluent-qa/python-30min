{
 "cells": [
  {
   "metadata": {},
   "cell_type": "markdown",
   "source": [
    "# Basic\n",
    "\n",
    "- Print: print message\n",
    "- Logging: logging with different log level"
   ],
   "id": "abef9eb6c5318086"
  },
  {
   "metadata": {},
   "cell_type": "code",
   "outputs": [],
   "execution_count": null,
   "source": "print(\"Hello World\")",
   "id": "4397a08283887c92"
  },
  {
   "metadata": {
    "ExecuteTime": {
     "end_time": "2024-06-28T03:45:33.148736Z",
     "start_time": "2024-06-28T03:45:33.127333Z"
    }
   },
   "cell_type": "code",
   "source": [
    "import logging\n",
    "\n",
    "logging.info(\"this is test\")\n",
    "logging.warning(\"this is test\")\n",
    "logging.error(\"this is test\")\n",
    "logging.debug(\"this is test\")"
   ],
   "id": "3ed92808de559671",
   "outputs": [
    {
     "name": "stderr",
     "output_type": "stream",
     "text": [
      "WARNING:root:this is test\n",
      "ERROR:root:this is test\n"
     ]
    }
   ],
   "execution_count": 1
  },
  {
   "metadata": {},
   "cell_type": "markdown",
   "source": [
    "## More Logging examples\n",
    "\n",
    "- configuration\n",
    "- format\n",
    "- handler"
   ],
   "id": "a54dbeb46e484452"
  },
  {
   "metadata": {
    "ExecuteTime": {
     "end_time": "2024-06-28T03:49:31.086875Z",
     "start_time": "2024-06-28T03:49:31.076302Z"
    }
   },
   "cell_type": "code",
   "source": [
    "import logging\n",
    "\n",
    "log = logging.getLogger(\"test_level\")\n",
    "handler = logging.StreamHandler()\n",
    "handler.setLevel(\"DEBUG\")\n",
    "fmt = logging.Formatter( \"%(asctime)s  %(name)s  %(levelname)s \" \"l:%(lineno)d f:%(filename)s: %(message)s\")\n",
    "\n",
    "handler.setFormatter(fmt)\n",
    "log.addHandler(handler)\n",
    "\n",
    "log.info('this is test')\n",
    "log.warning('this is test')\n",
    "log.critical('this is test')\n",
    "log.error(\"this is test\")\n",
    "log.debug('this is test')"
   ],
   "id": "ca4d034a8028272b",
   "outputs": [
    {
     "name": "stderr",
     "output_type": "stream",
     "text": [
      "2024-06-28 11:49:31,078  test_level  WARNING l:12 f:1647460449.py: this is test\n",
      "WARNING:test_level:this is test\n",
      "2024-06-28 11:49:31,081  test_level  CRITICAL l:13 f:1647460449.py: this is test\n",
      "CRITICAL:test_level:this is test\n",
      "2024-06-28 11:49:31,083  test_level  ERROR l:14 f:1647460449.py: this is test\n",
      "ERROR:test_level:this is test\n"
     ]
    }
   ],
   "execution_count": 4
  }
 ],
 "metadata": {
  "kernelspec": {
   "display_name": "Python 3",
   "language": "python",
   "name": "python3"
  },
  "language_info": {
   "codemirror_mode": {
    "name": "ipython",
    "version": 2
   },
   "file_extension": ".py",
   "mimetype": "text/x-python",
   "name": "python",
   "nbconvert_exporter": "python",
   "pygments_lexer": "ipython2",
   "version": "2.7.6"
  }
 },
 "nbformat": 4,
 "nbformat_minor": 5
}
