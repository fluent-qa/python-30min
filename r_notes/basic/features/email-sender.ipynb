{
 "cells": [
  {
   "metadata": {},
   "cell_type": "markdown",
   "source": "## Send A Email",
   "id": "55c2238f4717c7e3"
  },
  {
   "metadata": {},
   "cell_type": "code",
   "outputs": [],
   "execution_count": null,
   "source": [
    "#!/user/bin/env python\n",
    "import sys\n",
    "import os\n",
    "import smtplib\n",
    "from email.mime.text import MIMEText\n",
    "\n",
    "arguments = sys.argv[1:]\n",
    "if not arguments:\n",
    "    print(\"send a email ........\")\n",
    "    sys.exit(1)\n",
    "\n",
    "filename = arguments[0]\n",
    "templatename = arguments[1]\n",
    "\n",
    "path = os.curdir\n",
    "filepath = os.path.join(path, filename)  # emails.txt\n",
    "templatepath = os.path.join(path, templatename)  # email_tmpl.txt\n",
    "\n",
    "\n",
    "with smtplib.SMTP(host=\"localhost\", port=8025) as server:\n",
    "\n",
    "    for line in open(filepath):\n",
    "        name, email = line.split(\",\")\n",
    "        text = open(templatepath).read() % {\n",
    "            \"nome\": name,\n",
    "        }\n",
    "\n",
    "        from_ = \"susu@abc.com\"\n",
    "        to = \", \".join([email])\n",
    "\n",
    "        message = MIMEText(text)\n",
    "        message[\"Subject\"] = \"Email For Testing\"\n",
    "        message[\"From\"] = from_\n",
    "        message[\"To\"] = to\n",
    "\n",
    "        server.sendmail(from_, to, message.as_string())\n"
   ],
   "id": "2dd2ada8612055b3"
  }
 ],
 "metadata": {
  "kernelspec": {
   "display_name": "Python 3",
   "language": "python",
   "name": "python3"
  },
  "language_info": {
   "codemirror_mode": {
    "name": "ipython",
    "version": 2
   },
   "file_extension": ".py",
   "mimetype": "text/x-python",
   "name": "python",
   "nbconvert_exporter": "python",
   "pygments_lexer": "ipython2",
   "version": "2.7.6"
  }
 },
 "nbformat": 4,
 "nbformat_minor": 5
}
