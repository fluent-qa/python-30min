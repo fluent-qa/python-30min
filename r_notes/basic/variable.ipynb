{
 "cells": [
  {
   "metadata": {},
   "cell_type": "markdown",
   "source": "## Variable Usage",
   "id": "6c544129dd51bfa1"
  },
  {
   "metadata": {},
   "cell_type": "code",
   "outputs": [],
   "execution_count": null,
   "source": [
    "### Variables ###\n",
    "\n",
    "my_string_variable = \"My String variable\"\n",
    "print(my_string_variable)\n",
    "\n",
    "my_int_variable = 5\n",
    "print(my_int_variable)\n",
    "\n",
    "my_int_to_str_variable = str(my_int_variable)\n",
    "print(my_int_to_str_variable)\n",
    "print(type(my_int_to_str_variable))\n",
    "\n",
    "my_bool_variable = False\n",
    "print(my_bool_variable)\n",
    "\n",
    "print(my_string_variable, my_int_to_str_variable, my_bool_variable)\n",
    "\n",
    "print(len(my_string_variable))\n",
    "\n",
    "name, surname, alias, age = \"name\", \"surname\", 'sn', 35\n",
    "\n",
    "# Inputs\n",
    "name = input('name ')\n",
    "age = input('age')\n",
    "print(name)\n",
    "print(age)\n",
    "\n",
    "\n",
    "address: str = \"My Address\"\n",
    "address = True\n",
    "address = 5\n",
    "address = 1.2\n",
    "print(type(address))\n"
   ],
   "id": "3a2e1065be280b78"
  }
 ],
 "metadata": {
  "kernelspec": {
   "display_name": "Python 3",
   "language": "python",
   "name": "python3"
  },
  "language_info": {
   "codemirror_mode": {
    "name": "ipython",
    "version": 2
   },
   "file_extension": ".py",
   "mimetype": "text/x-python",
   "name": "python",
   "nbconvert_exporter": "python",
   "pygments_lexer": "ipython2",
   "version": "2.7.6"
  }
 },
 "nbformat": 4,
 "nbformat_minor": 5
}
