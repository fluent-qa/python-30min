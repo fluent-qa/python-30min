{
 "cells": [
  {
   "cell_type": "markdown",
   "source": [
    "## 4. python list\n",
    "\n",
    "- what is list/array\n",
    "- list operations\n",
    "- list function"
   ],
   "metadata": {
    "collapsed": false
   },
   "id": "92669b4d5bdd6a72"
  },
  {
   "cell_type": "markdown",
   "source": [
    "### 4.1 What is list"
   ],
   "metadata": {
    "collapsed": false
   },
   "id": "7786c2db0226c5bd"
  },
  {
   "cell_type": "code",
   "execution_count": 2,
   "outputs": [
    {
     "name": "stdout",
     "output_type": "stream",
     "text": [
      "0\n",
      "[35, 24, 62, 52, 30, 30, 17]\n",
      "7\n",
      "<class 'list'>\n",
      "<class 'list'>\n"
     ]
    }
   ],
   "source": [
    "my_list = list()\n",
    "my_other_list = []\n",
    "print(len(my_list))\n",
    "my_list = [35, 24, 62, 52, 30, 30, 17]\n",
    "print(my_list)\n",
    "print(len(my_list))\n",
    "my_other_list = [35, 1.77, \"Name\", \"Fullname\"]\n",
    "print(type(my_list))\n",
    "print(type(my_other_list))\n",
    "# index\n",
    "# ->                    0        1         2\n",
    "names : list[str] = [\"First\",\"Second\", \"Third\"]\n",
    "# <-                    -3     -2          -1"
   ],
   "metadata": {
    "collapsed": false,
    "ExecuteTime": {
     "end_time": "2023-12-02T02:44:41.426476Z",
     "start_time": "2023-12-02T02:44:41.420689Z"
    }
   },
   "id": "70dd503cf149efb3"
  },
  {
   "cell_type": "markdown",
   "source": [
    "### 4.2 List operations"
   ],
   "metadata": {
    "collapsed": false
   },
   "id": "f043fdf2ff45f6a8"
  },
  {
   "cell_type": "code",
   "execution_count": 3,
   "outputs": [
    {
     "name": "stdout",
     "output_type": "stream",
     "text": [
      "Second\n",
      "35\n",
      "1.77\n",
      "Fullname\n",
      "35\n",
      "2\n",
      "2\n",
      "Name\n",
      "35 1.77 35 Fullname\n",
      "[35, 24, 62, 52, 30, 30, 17, 35, 1.77, 'Name', 'Fullname']\n",
      "[35, 1.77, 'Name', 'Fullname', 'Dev']\n",
      "[35, 'InsertOne', 1.77, 'Name', 'Fullname', 'Dev']\n",
      "[35, 'Azul', 1.77, 'Name', 'Fullname', 'Dev']\n",
      "[35, 1.77, 'Name', 'Fullname', 'Dev']\n",
      "[35, 24, 62, 52, 30, 17]\n",
      "17\n",
      "[35, 24, 62, 52, 30]\n",
      "62\n",
      "[35, 24, 52, 30]\n",
      "[35, 24, 30]\n",
      "[]\n",
      "[35, 24, 30]\n",
      "[30, 24, 35]\n",
      "[24, 30, 35]\n",
      "[30, 35]\n",
      "Hello Python\n",
      "<class 'str'>\n"
     ]
    }
   ],
   "source": [
    "print(names[-2])\n",
    "print(my_other_list[0])\n",
    "print(my_other_list[1])\n",
    "print(my_other_list[-1])\n",
    "print(my_other_list[-4])\n",
    "print(my_list.count(30))\n",
    "# print(my_other_list[4]) IndexError\n",
    "# print(my_other_list[-5]) IndexError\n",
    "\n",
    "print(my_other_list.index(\"Name\"))\n",
    "\n",
    "age, height, name, surname = my_other_list\n",
    "print(name)\n",
    "\n",
    "name, height, age, surname = my_other_list[2], my_other_list[1], my_other_list[0], my_other_list[3]\n",
    "print(age,height, age, surname)\n",
    "\n",
    "# list operations\n",
    "\n",
    "print(my_list + my_other_list)\n",
    "my_other_list.append(\"Dev\")\n",
    "print(my_other_list)\n",
    "\n",
    "my_other_list.insert(1, \"InsertOne\")\n",
    "print(my_other_list)\n",
    "\n",
    "my_other_list[1] = \"Azul\"\n",
    "print(my_other_list)\n",
    "\n",
    "my_other_list.remove(\"Azul\")\n",
    "print(my_other_list)\n",
    "\n",
    "my_list.remove(30)\n",
    "print(my_list)\n",
    "\n",
    "print(my_list.pop())\n",
    "print(my_list)\n",
    "\n",
    "my_pop_element = my_list.pop(2)\n",
    "print(my_pop_element)\n",
    "print(my_list)\n",
    "\n",
    "del my_list[2]\n",
    "print(my_list)\n",
    "my_new_list = my_list.copy()\n",
    "\n",
    "my_list.clear()\n",
    "print(my_list)\n",
    "print(my_new_list)\n",
    "\n",
    "my_new_list.reverse()\n",
    "print(my_new_list)\n",
    "\n",
    "my_new_list.sort()\n",
    "print(my_new_list)\n",
    "\n",
    "print(my_new_list[1:3])\n",
    "my_list = \"Hello Python\"\n",
    "print(my_list)\n",
    "print(type(my_list))\n"
   ],
   "metadata": {
    "collapsed": false,
    "ExecuteTime": {
     "end_time": "2023-12-02T02:44:44.203521Z",
     "start_time": "2023-12-02T02:44:44.168093Z"
    }
   },
   "id": "2ffc8a7f35a030db"
  },
  {
   "metadata": {},
   "cell_type": "markdown",
   "source": "## Tuple",
   "id": "ad9d1355b009b1d9"
  },
  {
   "metadata": {},
   "cell_type": "code",
   "outputs": [],
   "execution_count": null,
   "source": [
    "\n",
    "### Tuples ###\n",
    "my_tuple = tuple()\n",
    "my_other_tuple = ()\n",
    "\n",
    "my_tuple = (35, 1.77, \"Name\", \"FullName\")\n",
    "my_other_tuple = (35, 60, 30)\n",
    "\n",
    "print(my_tuple)\n",
    "print(type(my_tuple))\n",
    "\n",
    "print(my_tuple[0])\n",
    "print(my_tuple[-1])\n",
    "# print(my_tuple[4]) IndexError\n",
    "# print(my_tuple[-6]) IndexError\n",
    "\n",
    "print(my_tuple.count(\"Name\"))\n",
    "print(my_tuple.index(\"FullName\"))\n",
    "print(my_tuple.index(\"Name\"))\n",
    "\n",
    "my_sum_tuple = my_tuple + my_other_tuple\n",
    "print(my_sum_tuple)\n",
    "\n",
    "print(my_sum_tuple[3:6])\n",
    "\n",
    "my_tuple = list(my_tuple)\n",
    "print(type(my_tuple))\n",
    "\n",
    "my_tuple[4] = \"NameFull\"\n",
    "my_tuple.insert(1, \"Azul\")\n",
    "my_tuple = tuple(my_tuple)\n",
    "print(my_tuple)\n",
    "print(type(my_tuple))\n",
    "\n",
    "del my_tuple\n",
    "# print(my_tuple) NameError: name 'my_tuple' is not defined\n"
   ],
   "id": "84a91281dcca558"
  },
  {
   "metadata": {},
   "cell_type": "markdown",
   "source": "## Set",
   "id": "1e69ca51f478b088"
  },
  {
   "metadata": {},
   "cell_type": "code",
   "outputs": [],
   "execution_count": null,
   "source": [
    "### Sets ###\n",
    "\n",
    "# Definition\n",
    "\n",
    "my_set = set()\n",
    "my_other_set = {}\n",
    "\n",
    "print(type(my_set))\n",
    "print(type(my_other_set))\n",
    "\n",
    "my_other_set = {\"Name\", \"FullName\", 35}\n",
    "print(type(my_other_set))\n",
    "\n",
    "print(len(my_other_set))\n",
    "\n",
    "# Insert\n",
    "\n",
    "my_other_set.add(\"AliasName\")\n",
    "\n",
    "print(my_other_set)\n",
    "\n",
    "my_other_set.add(\"AnotherAliasName\")\n",
    "\n",
    "print(my_other_set)\n",
    "\n",
    "# Operations\n",
    "\n",
    "print(\"Name\" in my_other_set)\n",
    "print(\"Name1\" in my_other_set)\n",
    "\n",
    "\n",
    "my_other_set.remove(\"Name\")\n",
    "print(my_other_set)\n",
    "\n",
    "my_other_set.clear()\n",
    "print(len(my_other_set))\n",
    "\n",
    "del my_other_set\n",
    "# print(my_other_set) NameError: name 'my_other_set' is not defined\n",
    "\n",
    "# Transformation\n",
    "my_set = {\"Name\", \"FullName\", 35}\n",
    "my_list = list(my_set)\n",
    "print(my_list)\n",
    "print(my_list[0])\n",
    "\n",
    "my_other_set = {\"Kotlin\", \"Swift\", \"Python\"}\n",
    "my_new_set = my_set.union(my_other_set)\n",
    "print(my_new_set.union(my_new_set).union(my_set).union({\"JavaScript\", \"C#\"}))\n",
    "print(my_new_set.difference(my_set))\n"
   ],
   "id": "1ae45a7a6bb474a0"
  }
 ],
 "metadata": {
  "kernelspec": {
   "display_name": "Python 3",
   "language": "python",
   "name": "python3"
  },
  "language_info": {
   "codemirror_mode": {
    "name": "ipython",
    "version": 2
   },
   "file_extension": ".py",
   "mimetype": "text/x-python",
   "name": "python",
   "nbconvert_exporter": "python",
   "pygments_lexer": "ipython2",
   "version": "2.7.6"
  }
 },
 "nbformat": 4,
 "nbformat_minor": 5
}
