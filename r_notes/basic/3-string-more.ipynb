{
 "cells": [
  {
   "cell_type": "markdown",
   "source": [
    "## 3. python string more \n",
    "- slice\n",
    "- Reverse\n",
    "- more string function"
   ],
   "metadata": {
    "collapsed": false
   },
   "id": "af37dcafda217035"
  },
  {
   "cell_type": "code",
   "execution_count": 1,
   "outputs": [
    {
     "name": "stdout",
     "output_type": "stream",
     "text": [
      "p\n",
      "o\n",
      "6\n",
      "yt\n",
      "ython\n",
      "o\n",
      "pto\n",
      "nohtyp\n",
      "Python\n",
      "PYTHON\n",
      "1\n",
      "False\n",
      "True\n",
      "python\n",
      "False\n",
      "False\n",
      "False\n"
     ]
    }
   ],
   "source": [
    "language = \"python\"\n",
    "a, b, c, d, e, f = language\n",
    "print(a)\n",
    "print(e)\n",
    "print(len(language))\n",
    "\n",
    "# slice\n",
    "language_slice = language[1:3]\n",
    "print(language_slice)\n",
    "\n",
    "language_slice = language[1:]\n",
    "print(language_slice)\n",
    "\n",
    "language_slice = language[-2]\n",
    "print(language_slice)\n",
    "\n",
    "language_slice = language[0:6:2]\n",
    "print(language_slice)\n",
    "\n",
    "# reverse\n",
    "reversed_language = language[::-1]\n",
    "print(reversed_language)\n",
    "\n",
    "# string functions\n",
    "print(language.capitalize())\n",
    "print(language.upper())\n",
    "print(language.count(\"t\"))\n",
    "print(language.isnumeric())\n",
    "print(\"1\".isnumeric())\n",
    "print(language.lower())\n",
    "print(language.lower().isupper())\n",
    "print(language.startswith(\"Py\"))\n",
    "print(\"Py\" == \"py\")\n"
   ],
   "metadata": {
    "collapsed": false,
    "ExecuteTime": {
     "end_time": "2023-12-02T02:39:09.614633Z",
     "start_time": "2023-12-02T02:39:09.608039Z"
    }
   },
   "id": "e7b6edc459944a22"
  },
  {
   "cell_type": "code",
   "execution_count": null,
   "outputs": [],
   "source": [],
   "metadata": {
    "collapsed": false
   },
   "id": "2cbd7d2745697452"
  }
 ],
 "metadata": {
  "kernelspec": {
   "display_name": "Python 3",
   "language": "python",
   "name": "python3"
  },
  "language_info": {
   "codemirror_mode": {
    "name": "ipython",
    "version": 2
   },
   "file_extension": ".py",
   "mimetype": "text/x-python",
   "name": "python",
   "nbconvert_exporter": "python",
   "pygments_lexer": "ipython2",
   "version": "2.7.6"
  }
 },
 "nbformat": 4,
 "nbformat_minor": 5
}
