{
 "cells": [
  {
   "metadata": {},
   "cell_type": "markdown",
   "source": [
    "## OOP\n",
    "\n",
    "- structure code "
   ],
   "id": "a805d1be9c77d22f"
  },
  {
   "metadata": {},
   "cell_type": "code",
   "outputs": [],
   "execution_count": null,
   "source": [
    "# Clase en vídeo: https://youtu.be/Kp4Mvapo5kc?t=29327\n",
    "\n",
    "### Classes ###\n",
    "\n",
    "# Definitions\n",
    "\n",
    "class MyEmptyPerson:\n",
    "    pass\n",
    "\n",
    "\n",
    "print(MyEmptyPerson)\n",
    "print(MyEmptyPerson())\n",
    "\n",
    "\n",
    "class Person:\n",
    "    def __init__(self, name, surname, alias=\"alias\"):\n",
    "        self.full_name = f\"{name} {surname} ({alias})\"\n",
    "        self.__name = name\n",
    "\n",
    "    def get_name(self):\n",
    "        return self.__name\n",
    "\n",
    "    def walk(self):\n",
    "        print(f\"{self.full_name} walking \")\n",
    "\n",
    "\n",
    "my_person = Person(\"Name\", \"Surname\")\n",
    "print(my_person.full_name)\n",
    "print(my_person.get_name())\n",
    "my_person.walk()\n",
    "\n",
    "my_other_person = Person(\"Name\", \"Surname\", \"Alias\")\n",
    "print(my_other_person.full_name)\n",
    "my_other_person.walk()\n",
    "my_other_person.full_name = \"Full full-name Name\"\n",
    "print(my_other_person.full_name)\n",
    "\n",
    "my_other_person.full_name = 666\n",
    "print(my_other_person.full_name)\n"
   ],
   "id": "cb71dce0a5453f82"
  },
  {
   "metadata": {},
   "cell_type": "markdown",
   "source": "## Modules",
   "id": "7de413bb6cc55ef7"
  },
  {
   "metadata": {},
   "cell_type": "code",
   "outputs": [],
   "execution_count": null,
   "source": [
    "\n",
    "### Modules ###\n",
    "\n",
    "from math import pi as PI_VALUE\n",
    "import math\n",
    "from my_module import sumValue, printValue\n",
    "import my_module\n",
    "\n",
    "my_module.sumValue(5, 3, 1)\n",
    "my_module.printValue(\"Hola Python!\")\n",
    "\n",
    "\n",
    "sumValue(5, 3, 1)\n",
    "printValue(\"Hola python\")\n",
    "\n",
    "\n",
    "print(math.pi)\n",
    "print(math.pow(2, 8))\n",
    "\n",
    "\n",
    "print(PI_VALUE)\n"
   ],
   "id": "f1c33760bbe7b9c"
  }
 ],
 "metadata": {
  "kernelspec": {
   "display_name": "Python 3",
   "language": "python",
   "name": "python3"
  },
  "language_info": {
   "codemirror_mode": {
    "name": "ipython",
    "version": 2
   },
   "file_extension": ".py",
   "mimetype": "text/x-python",
   "name": "python",
   "nbconvert_exporter": "python",
   "pygments_lexer": "ipython2",
   "version": "2.7.6"
  }
 },
 "nbformat": 4,
 "nbformat_minor": 5
}
