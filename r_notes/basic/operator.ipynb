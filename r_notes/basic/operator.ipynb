{
 "cells": [
  {
   "metadata": {},
   "cell_type": "markdown",
   "source": "## Operator",
   "id": "f78d118acc6cace3"
  },
  {
   "metadata": {},
   "cell_type": "code",
   "outputs": [],
   "execution_count": null,
   "source": [
    "print(3 + 4)\n",
    "print(3 - 4)\n",
    "print(3 * 4)\n",
    "print(3 / 4)\n",
    "print(10 % 3)\n",
    "print(10 // 3)\n",
    "print(2 ** 3)\n",
    "print(2 ** 3 + 3 - 7 / 1 // 4)\n",
    "\n",
    "print(\"Hello \" + \"Python \" )\n",
    "print(\"Hello \" + str(5))\n",
    "\n",
    "print(\"Hello \" * 5)\n",
    "print(\"Hello \" * (2 ** 3))\n",
    "\n",
    "my_float = 2.5 * 2\n",
    "print(\"Hello \" * int(my_float))\n",
    "\n",
    "print(3 > 4)\n",
    "print(3 < 4)\n",
    "print(3 >= 4)\n",
    "print(4 <= 4)\n",
    "print(3 == 4)\n",
    "print(3 != 4)\n",
    "\n",
    "print(\"Hello\" > \"Python\")\n",
    "print(\"Hello\" < \"Python\")\n",
    "print(\"aaaa\" >= \"abaa\")\n",
    "print(len(\"aaaa\") >= len(\"abaa\"))\n",
    "print(\"Hello\" <= \"Python\")\n",
    "print(\"Hello\" == \"Hello\")\n",
    "print(\"Hello\" != \"Python\")\n",
    "\n",
    "\n",
    "print(3 > 4 and \"Hello\" > \"Python\")\n",
    "print(3 > 4 or \"Hello\" > \"Python\")\n",
    "print(3 < 4 and \"Hello\" < \"Python\")\n",
    "print(3 < 4 or \"Hello\" > \"Python\")\n",
    "print(3 < 4 or (\"Hello\" > \"Python\" and 4 == 4))\n",
    "print(not (3 > 4))\n"
   ],
   "id": "1a0072d842df48e"
  }
 ],
 "metadata": {
  "kernelspec": {
   "display_name": "Python 3",
   "language": "python",
   "name": "python3"
  },
  "language_info": {
   "codemirror_mode": {
    "name": "ipython",
    "version": 2
   },
   "file_extension": ".py",
   "mimetype": "text/x-python",
   "name": "python",
   "nbconvert_exporter": "python",
   "pygments_lexer": "ipython2",
   "version": "2.7.6"
  }
 },
 "nbformat": 4,
 "nbformat_minor": 5
}
