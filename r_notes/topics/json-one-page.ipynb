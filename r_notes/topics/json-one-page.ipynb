{
 "cells": [
  {
   "metadata": {},
   "cell_type": "markdown",
   "source": [
    "# Revisited JSON - One Page\n",
    "\n",
    "## 1. What is JSON?\n",
    "\n",
    "> JSON（JavaScript Object Notation）是一种轻量级的数据交换格式，它使用人类可读的文本格式来存储和传输数据对象。  JSON 数据以键值对的形式组织，键是字符串，值可以是字符串、数字、布尔值、数组或其他 JSON 对象\n",
    "\n",
    "### 1.1 JSON Examples\n",
    "\n",
    "- key:value \n",
    "\n",
    "```json\n",
    "{ \"name\": \"Kimi\", \"age\": 1 }\n",
    "```\n",
    "\n",
    "- 数组\n",
    "\n",
    "```json\n",
    "[\"apple\", \"banana\", \"cherry\"]\n",
    "```\n",
    "\n",
    "- 字符串，数字，布尔值\n",
    "\n",
    "```json\n",
    "\"Hello, World!\"\n",
    "```\n",
    "\n",
    "```json\n",
    "4.2\n",
    "```\n",
    "\n",
    "```json\n",
    "true\n",
    "```\n",
    "\n",
    "- 复杂对象\n",
    "\n",
    "```json\n",
    "{\n",
    "  \"key\": \"v1\",\n",
    "  \"key2\": \"v2\",\n",
    "  \"k_list\": [\"test\",\"t2\"],\n",
    "  \"k_obj\": {\"k1\": \"v1\",\"k2\": \"v2\"},\n",
    "  \"k_bool\": true,\n",
    "  \"k_num\": 4.3\n",
    "}\n",
    "\n",
    "```\n",
    "\n",
    "## Code examples to read json\n",
    "\n",
    "- json string to python object\n",
    "- python object to json string"
   ],
   "id": "ce89096401fbc00b"
  },
  {
   "metadata": {
    "ExecuteTime": {
     "end_time": "2024-07-08T05:24:58.120088Z",
     "start_time": "2024-07-08T05:24:58.109428Z"
    }
   },
   "cell_type": "code",
   "source": [
    "import json\n",
    "## string to python object\n",
    "print(json.loads(\"{\\\"title\\\":\\\"Hello World\\\"}\"))\n",
    "\n",
    "json_str=\"\"\"\n",
    "{\n",
    "  \"key\": \"v1\",\n",
    "  \"key2\": \"v2\",\n",
    "  \"k_list\": [\"test\",\"t2\"],\n",
    "  \"k_obj\": {\"k1\": \"v1\",\"k2\": \"v2\"},\n",
    "  \"k_bool\": true,\n",
    "  \"k_num\": 4.3\n",
    "}\n",
    "\"\"\"\n",
    "to_py_obj = json.loads(json_str)\n",
    "print(to_py_obj)\n",
    "print(type(to_py_obj))\n",
    "## access python object\n",
    "print(to_py_obj[\"key\"])\n",
    "print(to_py_obj[\"k_list\"])\n",
    "print(to_py_obj[\"k_bool\"])\n",
    "print(to_py_obj[\"k_num\"])\n",
    "print(type(to_py_obj[\"k_obj\"]))\n",
    "\n",
    "## python object to json string \n",
    "result = json.dumps(\"Hello World\") # to string\n",
    "print(result)\n",
    "print(json.dumps(4.3))\n",
    "print(json.dumps(\"true\"))\n",
    "print(json.dumps(True))\n",
    "\n",
    "## read "
   ],
   "id": "4feae4c24f2754ef",
   "outputs": [
    {
     "name": "stdout",
     "output_type": "stream",
     "text": [
      "{'title': 'Hello World'}\n",
      "{'key': 'v1', 'key2': 'v2', 'k_list': ['test', 't2'], 'k_obj': {'k1': 'v1', 'k2': 'v2'}, 'k_bool': True, 'k_num': 4.3}\n",
      "<class 'dict'>\n",
      "v1\n",
      "['test', 't2']\n",
      "True\n",
      "4.3\n",
      "<class 'dict'>\n",
      "\"Hello World\"\n",
      "4.3\n",
      "\"true\"\n",
      "true\n"
     ]
    }
   ],
   "execution_count": 9
  },
  {
   "metadata": {},
   "cell_type": "markdown",
   "source": [
    "## 2. JSON->Python Pydantic Model\n",
    "\n",
    "- Use Pydantic directly"
   ],
   "id": "11517fc120d16f0b"
  },
  {
   "metadata": {
    "ExecuteTime": {
     "end_time": "2024-07-08T05:37:50.397962Z",
     "start_time": "2024-07-08T05:37:50.387075Z"
    }
   },
   "cell_type": "code",
   "source": [
    "import pydantic\n",
    "\n",
    "json_str_for_obj=\"\"\"\n",
    "{\n",
    "  \"key\": \"v1\",\n",
    "  \"key2\": \"v2\",\n",
    "  \"k_list\": [\"test\",\"t2\"],\n",
    "  \"k_obj\": {\"k1\": \"v1\",\"k2\": \"v2\"},\n",
    "  \"k_bool\": true,\n",
    "  \"k_num\": 4.3\n",
    "}\n",
    "\"\"\"\n",
    "dict_obj = {\n",
    "  \"key\": \"v1\",\n",
    "  \"key2\": \"v2\",\n",
    "  \"k_list\": [\"test\",\"t2\"],\n",
    "  \"k_obj\": {\"k1\": \"v1\",\"k2\": \"v2\"},\n",
    "  \"k_bool\": True,\n",
    "  \"k_num\": 4.3\n",
    "}\n",
    "\n",
    "class DemoModel(pydantic.BaseModel):\n",
    "  key:str\n",
    "  key2:str\n",
    "  k_list:list\n",
    "  k_obj:dict\n",
    "  k_bool:bool\n",
    "  k_num: float\n",
    "result= DemoModel.parse_raw(json_str_for_obj)\n",
    "print(result)\n",
    "print(result.k_obj)\n",
    "print(result.k_list)\n",
    "print(result.k_bool)\n",
    "print(result.k_num)\n",
    "\n",
    "print(DemoModel.parse_obj(dict_obj))\n",
    "\n"
   ],
   "id": "51175a7dc45381ba",
   "outputs": [
    {
     "name": "stdout",
     "output_type": "stream",
     "text": [
      "key='v1' key2='v2' k_list=['test', 't2'] k_obj={'k1': 'v1', 'k2': 'v2'} k_bool=True k_num=4.3\n",
      "{'k1': 'v1', 'k2': 'v2'}\n",
      "['test', 't2']\n",
      "True\n",
      "4.3\n",
      "key='v1' key2='v2' k_list=['test', 't2'] k_obj={'k1': 'v1', 'k2': 'v2'} k_bool=True k_num=4.3\n"
     ]
    }
   ],
   "execution_count": 18
  }
 ],
 "metadata": {
  "kernelspec": {
   "display_name": "Python 3",
   "language": "python",
   "name": "python3"
  },
  "language_info": {
   "codemirror_mode": {
    "name": "ipython",
    "version": 2
   },
   "file_extension": ".py",
   "mimetype": "text/x-python",
   "name": "python",
   "nbconvert_exporter": "python",
   "pygments_lexer": "ipython2",
   "version": "2.7.6"
  }
 },
 "nbformat": 4,
 "nbformat_minor": 5
}
