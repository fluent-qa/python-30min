{
 "cells": [
  {
   "metadata": {},
   "cell_type": "markdown",
   "source": [
    "# jinja2 Template\n",
    "\n",
    "- String template\n",
    "- File Template\n",
    "- How to Use template to generate email/html/message"
   ],
   "id": "52bac6c6f83c5918"
  },
  {
   "metadata": {},
   "cell_type": "markdown",
   "source": "## String template",
   "id": "4c03ff8c3c4e4397"
  },
  {
   "metadata": {
    "ExecuteTime": {
     "end_time": "2024-07-10T05:22:17.450979Z",
     "start_time": "2024-07-10T05:22:17.443969Z"
    }
   },
   "cell_type": "code",
   "source": [
    "from jinja2 import Template\n",
    "\n",
    "def template_with_more_data(**kwargs):\n",
    "    tm = Template(\"My name is {{ name }} and I am {{ age }}\")\n",
    "    msg = tm.render(**kwargs)\n",
    "    print(msg)\n",
    "\n",
    "template_with_more_data(name=\"name\",age=12)\n",
    "template_with_more_data(name=\"name\",age=12,no_used='not used')\n"
   ],
   "id": "94455a2e5c4920e9",
   "outputs": [
    {
     "name": "stdout",
     "output_type": "stream",
     "text": [
      "My name is name and I am 12\n",
      "My name is name and I am 12\n"
     ]
    }
   ],
   "execution_count": 2
  },
  {
   "metadata": {},
   "cell_type": "markdown",
   "source": "## File Template\n",
   "id": "42d369bf92b54ca1"
  },
  {
   "metadata": {
    "ExecuteTime": {
     "end_time": "2024-07-10T05:27:36.736014Z",
     "start_time": "2024-07-10T05:27:36.728273Z"
    }
   },
   "cell_type": "code",
   "source": [
    "\n",
    "from jinja2 import FileSystemLoader,Environment\n",
    "\n",
    "file_loader = FileSystemLoader('templates')\n",
    "env = Environment(loader=file_loader)\n",
    "\n",
    "template = env.get_template('examples.txt')\n",
    "result = template.render(var=\"test\")\n",
    "print(result)"
   ],
   "id": "61a5bd5cd7ac84a3",
   "outputs": [
    {
     "name": "stdout",
     "output_type": "stream",
     "text": [
      "simple text\n",
      "simple test\n"
     ]
    }
   ],
   "execution_count": 6
  },
  {
   "metadata": {},
   "cell_type": "markdown",
   "source": "## Render with class/function and loop",
   "id": "f4083ba47c650c9"
  },
  {
   "metadata": {
    "ExecuteTime": {
     "end_time": "2024-07-10T05:40:06.376381Z",
     "start_time": "2024-07-10T05:40:06.352136Z"
    }
   },
   "cell_type": "code",
   "source": [
    "persons = [\n",
    "    {'name': 'Andrej', 'age': 34},\n",
    "    {'name': 'Mark', 'age': 17},\n",
    "    {'name': 'Thomas', 'age': 44},\n",
    "    {'name': 'Lucy', 'age': 14},\n",
    "    {'name': 'Robert', 'age': 23},\n",
    "    {'name': 'Dragomir', 'age': 54}\n",
    "]\n",
    "from jinja2 import FileSystemLoader,Environment\n",
    "\n",
    "file_loader = FileSystemLoader('templates')\n",
    "env = Environment(loader=file_loader)\n",
    "\n",
    "template = env.get_template('examples.txt')\n",
    "result = template.render(var=\"test\",persons=persons)\n",
    "print(result)\n",
    "## render with dict context data\n",
    "print(template.render({\"var\":\"test\",\"persons\":persons}))\n",
    "\n",
    "## render with class\n",
    "class Person():\n",
    "    def __init__(self, name, age):\n",
    "        self.name = name\n",
    "        self.age = age\n",
    "\n",
    "    def getAge(self):\n",
    "        return self.age\n",
    "\n",
    "    def getName(self):\n",
    "        return self.name\n",
    "\n",
    "person_objects= [Person(\"name1\",12),Person(\"name2\",14),Person(\"name3\",23),Person(\"name4\",54)]\n",
    "\n",
    "## builtin functions\n",
    "cars = [\n",
    "    {'name': 'Audi', 'price': 23000},\n",
    "    {'name': 'Skoda', 'price': 17300},\n",
    "    {'name': 'Volvo', 'price': 44300},\n",
    "    {'name': 'Volkswagen', 'price': 21300}\n",
    "]\n",
    "\n",
    "## add plugin/extensions\n",
    "env.add_extension('jinja2.ext.debug')\n",
    "def prefix_str(content: str, more_content: str) -> str:\n",
    "    return \"prefix-\" + content + \"-\" + str(more_content)\n",
    "\n",
    "\n",
    "env.globals[\"prefix_str\"] = prefix_str\n",
    "template_complex = env.get_template(\"examples_more.txt\")\n",
    "print(template_complex.render(var=\"test\",persons=person_objects,cars=cars))\n",
    "\n",
    "## with debug\n",
    "template_debug = env.get_template(\"examples_debug.txt\")\n",
    "print(template_debug.render(var=\"test\",persons=person_objects,cars=cars))\n"
   ],
   "id": "b02e9f1fe998748d",
   "outputs": [
    {
     "name": "stdout",
     "output_type": "stream",
     "text": [
      "simple text\n",
      "simple test\n",
      "\n",
      "Andrej 34\n",
      "Mark 17\n",
      "Thomas 44\n",
      "Lucy 14\n",
      "Robert 23\n",
      "Dragomir 54\n",
      "\n",
      "simple text\n",
      "simple test\n",
      "\n",
      "Andrej 34\n",
      "Mark 17\n",
      "Thomas 44\n",
      "Lucy 14\n",
      "Robert 23\n",
      "Dragomir 54\n",
      "\n",
      "simple text\n",
      "simple test\n",
      "\n",
      "name1 12\n",
      "    name1 12\n",
      "name2 14\n",
      "    name2 14\n",
      "name3 23\n",
      "    name3 23\n",
      "name4 54\n",
      "    name4 54\n",
      "\n",
      "\n",
      "conditions:\n",
      "\n",
      "    name1\n",
      "    \n",
      "    name2\n",
      "    \n",
      "    \n",
      "    \n",
      "\n",
      "sum examples:\n",
      "\n",
      "The sum of car prices is  105900\n",
      "The sum of car prices is 105900\n",
      "\n",
      "\n",
      "global_variable:\n",
      "test: prefix-test-105900\n",
      "name1 12\n",
      "name2 14\n",
      "name3 23\n",
      "name4 54\n",
      "\n",
      "\n",
      "conditions:\n",
      "\n",
      "    name1\n",
      "    \n",
      "    name2\n",
      "    \n",
      "    \n",
      "    \n",
      "\n",
      "sum examples:\n",
      "\n",
      "The sum of car prices is  105900\n",
      "The sum of car prices is 105900\n",
      "\n",
      "\n",
      "global_variable:\n",
      "test: prefix-test-105900\n",
      "\n",
      "{'context': {'cars': [{...}, {...}, {...}, {...}],\n",
      "             'cycler': <class 'jinja2.utils.Cycler'>,\n",
      "             'dict': <class 'dict'>,\n",
      "             'joiner': <class 'jinja2.utils.Joiner'>,\n",
      "             'lipsum': <function generate_lorem_ipsum at 0x1048b0220>,\n",
      "             'namespace': <class 'jinja2.utils.Namespace'>,\n",
      "             'persons': [<__main__.Person object at 0x1053aa010>,\n",
      "                         <__main__.Person object at 0x1057c78d0>,\n",
      "                         <__main__.Person object at 0x1057c4f50>,\n",
      "                         <__main__.Person object at 0x10507add0>],\n",
      "             'prefix_str': <function prefix_str at 0x1057dd8a0>,\n",
      "             'range': <class 'range'>,\n",
      "             'sum_price': 105900,\n",
      "             'var': 'test'},\n",
      " 'filters': ['abs', 'attr', 'batch', 'capitalize', 'center', 'count', 'd',\n",
      "             'default', 'dictsort', 'e', 'escape', 'filesizeformat', 'first',\n",
      "             'float', 'forceescape', 'format', 'groupby', 'indent', 'int',\n",
      "             'items', 'join', 'last', 'length', 'list', 'lower', 'map', 'max',\n",
      "             'min', 'pprint', 'random', 'reject', 'rejectattr', 'replace',\n",
      "             'reverse', 'round', 'safe', 'select', 'selectattr', 'slice',\n",
      "             'sort', 'string', 'striptags', 'sum', 'title', 'tojson', 'trim',\n",
      "             'truncate', 'unique', 'upper', 'urlencode', 'urlize', 'wordcount',\n",
      "             'wordwrap', 'xmlattr'],\n",
      " 'tests': ['!=', '<', '<=', '==', '>', '>=', 'boolean', 'callable', 'defined',\n",
      "           'divisibleby', 'eq', 'equalto', 'escaped', 'even', 'false', 'filter',\n",
      "           'float', 'ge', 'greaterthan', 'gt', 'in', 'integer', 'iterable',\n",
      "           'le', 'lessthan', 'lower', 'lt', 'mapping', 'ne', 'none', 'number',\n",
      "           'odd', 'sameas', 'sequence', 'string', 'test', 'true', 'undefined',\n",
      "           'upper']}\n"
     ]
    }
   ],
   "execution_count": 22
  }
 ],
 "metadata": {
  "kernelspec": {
   "display_name": "Python 3",
   "language": "python",
   "name": "python3"
  },
  "language_info": {
   "codemirror_mode": {
    "name": "ipython",
    "version": 2
   },
   "file_extension": ".py",
   "mimetype": "text/x-python",
   "name": "python",
   "nbconvert_exporter": "python",
   "pygments_lexer": "ipython2",
   "version": "2.7.6"
  }
 },
 "nbformat": 4,
 "nbformat_minor": 5
}
