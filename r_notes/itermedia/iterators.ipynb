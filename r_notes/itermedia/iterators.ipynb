{
 "cells": [
  {
   "cell_type": "code",
   "execution_count": null,
   "id": "initial_id",
   "metadata": {
    "collapsed": true
   },
   "outputs": [],
   "source": [
    ""
   ]
  },
  {
   "metadata": {},
   "cell_type": "markdown",
   "source": [
    "# Iterators \n",
    "\n",
    "- How iterator works and how you can build your own iterator using ```__iter__``` and ```__next__``` methods\n",
    "\n",
    "## Iterator Example"
   ],
   "id": "d719000fee948e37"
  },
  {
   "metadata": {},
   "cell_type": "code",
   "source": [
    "# define a list\n",
    "my_list = [6, 9, 0, 3]  # 4 elements\n",
    "\n",
    "# get an iterator using iter()\n",
    "my_iter = iter(my_list)\n",
    "\n",
    "# iterate through it using next()\n",
    "\n",
    "print(next(my_iter))       # Output: 6\n",
    "print(next(my_iter))       # Output: 9\n",
    "\n",
    "# next(obj) is same as obj.__next__()\n",
    "\n",
    "print(my_iter.__next__())  # Output: 0\n",
    "print(my_iter.__next__())  # Output: 3\n",
    "\n",
    "# This will raise error, no items left\n",
    "next(my_iter)"
   ],
   "id": "ca43b5fd9b40292b",
   "outputs": [],
   "execution_count": null
  },
  {
   "metadata": {},
   "cell_type": "markdown",
   "source": "## For Loop for Iterator",
   "id": "23c86257a4513dd4"
  },
  {
   "metadata": {},
   "cell_type": "code",
   "source": [
    "my_list = [6, 9, 0, 3]  # 4 elements\n",
    "for item in my_list:\n",
    "  print(item)\n",
    "\n",
    "iter_obj = iter(my_list)\n",
    "while True:\n",
    "  try:\n",
    "    element = next(iter_obj)\n",
    "    print(element)\n",
    "  except StopIteration as e:\n",
    "    print(\"stop iteration\")\n",
    "    break"
   ],
   "id": "f70e8c0019de810",
   "outputs": [],
   "execution_count": null
  },
  {
   "metadata": {},
   "cell_type": "markdown",
   "source": [
    "## Customer Iterator\n",
    "\n",
    "- __iter__()\n",
    "- __next__()"
   ],
   "id": "f45b988fcc4c8c86"
  },
  {
   "metadata": {},
   "cell_type": "code",
   "source": [
    "class PowTwo:\n",
    "    \"\"\"Class to implement an iterator\n",
    "    of powers of two\"\"\"\n",
    "\n",
    "    def __init__(self, max=0):\n",
    "        self.max = max\n",
    "\n",
    "    def __iter__(self):\n",
    "        self.n = 0\n",
    "        return self\n",
    "\n",
    "    def __next__(self):\n",
    "        if self.n <= self.max:\n",
    "            result = 2 ** self.n\n",
    "            self.n += 1\n",
    "            return result\n",
    "        else:\n",
    "            raise StopIteration\n",
    "\n",
    "\n",
    "# create an object\n",
    "numbers = PowTwo(4)\n",
    "\n",
    "# create an iterable from the object\n",
    "i = iter(numbers)\n",
    "\n",
    "# Using next to get to the next iterator element\n",
    "print(next(i))\n",
    "print(next(i))\n",
    "print(next(i))\n",
    "print(next(i))\n",
    "print(next(i))\n",
    "print(next(i))"
   ],
   "id": "ada1134a2f6f86bb",
   "outputs": [],
   "execution_count": null
  },
  {
   "metadata": {},
   "cell_type": "code",
   "source": [
    "class InfIter:\n",
    "  \n",
    "  def __init__(self):\n",
    "    pass\n",
    "  \n",
    "  def __iter__(self):\n",
    "    self.num=1\n",
    "    return self\n",
    "  def __next__(self):\n",
    "    num = self.num\n",
    "    self.num += 2\n",
    "    return num\n",
    "\n",
    "a = iter(InfIter())\n",
    "print(next(a))\n",
    "print(next(a))\n",
    "print(next(a))\n",
    "print(next(a))"
   ],
   "id": "8f141e41d716d844",
   "outputs": [],
   "execution_count": null
  },
  {
   "metadata": {},
   "cell_type": "markdown",
   "source": "",
   "id": "56e2907a4f739e8"
  }
 ],
 "metadata": {
  "kernelspec": {
   "display_name": "Python 3",
   "language": "python",
   "name": "python3"
  },
  "language_info": {
   "codemirror_mode": {
    "name": "ipython",
    "version": 2
   },
   "file_extension": ".py",
   "mimetype": "text/x-python",
   "name": "python",
   "nbconvert_exporter": "python",
   "pygments_lexer": "ipython2",
   "version": "2.7.6"
  }
 },
 "nbformat": 4,
 "nbformat_minor": 5
}
