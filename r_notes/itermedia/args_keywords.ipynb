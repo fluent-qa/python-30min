{
 "cells": [
  {
   "metadata": {},
   "cell_type": "markdown",
   "source": "# args and kwargs\n",
   "id": "615b941063a5c37c"
  },
  {
   "metadata": {},
   "cell_type": "code",
   "source": [
    "def func_args(*args,**kwargs):\n",
    "  print(args)\n",
    "  print(type(args))\n",
    "  print(kwargs)\n",
    "  print(type(kwargs))\n",
    "  for item in args:\n",
    "    print(item)\n",
    "  for item in kwargs:\n",
    "    print(item,kwargs[item])\n",
    "\n",
    "func_args(1,2,3,4,5,a=123,b=456)\n"
   ],
   "id": "db41419307fb7793",
   "outputs": [],
   "execution_count": null
  },
  {
   "metadata": {},
   "cell_type": "code",
   "outputs": [],
   "execution_count": null,
   "source": "",
   "id": "2f5caa2b3c37719b"
  }
 ],
 "metadata": {
  "kernelspec": {
   "display_name": "Python 3",
   "language": "python",
   "name": "python3"
  },
  "language_info": {
   "codemirror_mode": {
    "name": "ipython",
    "version": 2
   },
   "file_extension": ".py",
   "mimetype": "text/x-python",
   "name": "python",
   "nbconvert_exporter": "python",
   "pygments_lexer": "ipython2",
   "version": "2.7.6"
  }
 },
 "nbformat": 4,
 "nbformat_minor": 5
}
