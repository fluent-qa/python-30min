{
 "cells": [
  {
   "metadata": {},
   "cell_type": "markdown",
   "source": [
    "# Closures\n",
    "\n",
    "High Order Functions: What is it?\n",
    "- A function can take one or more functions as parameters\n",
    "- A function can be returned as a result of another function\n",
    "- A function can be modified\n",
    "- A function can be assigned to a variable"
   ],
   "id": "544a9048f45bc3cb"
  },
  {
   "metadata": {},
   "cell_type": "markdown",
   "source": "## Function as Parameter",
   "id": "211bac230ef1f9c1"
  },
  {
   "metadata": {},
   "cell_type": "code",
   "source": [
    "def sum_number(nums):\n",
    "  return sum(nums)\n",
    "\n",
    "def high_order_func(f,lst):\n",
    "  result = f(lst)\n",
    "  return result\n",
    "\n",
    "sum_result = high_order_func(sum_number, [1,2,3,4,5,6,7,8,9])\n",
    "print(sum_result)\n",
    "\n",
    "## pass function and function parameter as input to do computation"
   ],
   "id": "4e9419c5840f94b4",
   "outputs": [],
   "execution_count": null
  },
  {
   "metadata": {},
   "cell_type": "markdown",
   "source": "## Function s Return Value",
   "id": "9a7b6c2b42eb3cf5"
  },
  {
   "metadata": {},
   "cell_type": "code",
   "source": [
    "def square(x):          # a square function\n",
    "    return x ** 2\n",
    "\n",
    "def cube(x):            # a cube function\n",
    "    return x ** 3\n",
    "\n",
    "def absolute(x):        # an absolute value function\n",
    "    if x >= 0:\n",
    "        return x\n",
    "    else:\n",
    "        return -(x)\n",
    "\n",
    "def higher_order_function(type): # a higher order function returning a function\n",
    "    if type == 'square':\n",
    "        return square\n",
    "    elif type == 'cube':\n",
    "        return cube\n",
    "    elif type == 'absolute':\n",
    "        return absolute\n",
    "\n",
    "result = higher_order_function('square')\n",
    "print(result(3))       # 9\n",
    "result = higher_order_function('cube')\n",
    "print(result(3))       # 27\n",
    "result = higher_order_function('absolute')\n",
    "print(result(-3))      # 3"
   ],
   "id": "355a4c79c8845721",
   "outputs": [],
   "execution_count": null
  },
  {
   "metadata": {},
   "cell_type": "markdown",
   "source": "## No Local Parameter",
   "id": "e866f9210979bd1f"
  },
  {
   "metadata": {},
   "cell_type": "code",
   "source": [
    "def print_msg(msg):\n",
    "    # This is the outer enclosing function\n",
    "\n",
    "    def printer():\n",
    "        # This is the nested function\n",
    "        print(msg)\n",
    "\n",
    "    printer()\n",
    "\n",
    "# We execute the function\n",
    "# Output: Hello\n",
    "print_msg(\"Hello\")"
   ],
   "id": "c79828c72fe7d181",
   "outputs": [],
   "execution_count": null
  },
  {
   "metadata": {},
   "cell_type": "code",
   "source": [
    "def print_msg_func(msg):\n",
    "    # This is the outer enclosing function\n",
    "\n",
    "    def printer():\n",
    "        # This is the nested function\n",
    "        print(msg)\n",
    "\n",
    "    return printer  # returns the nested function\n",
    "\n",
    "\n",
    "# Now let's try calling this function.\n",
    "# Output: Hello\n",
    "another = print_msg_func(\"Hello\") ## function could be determined by other conditions\n",
    "another()"
   ],
   "id": "dcbac515e816022e",
   "outputs": [],
   "execution_count": null
  },
  {
   "metadata": {},
   "cell_type": "markdown",
   "source": [
    "## Closure 好处\n",
    "\n",
    "- 隐藏全局变量"
   ],
   "id": "6386001945fd93d7"
  },
  {
   "metadata": {},
   "cell_type": "code",
   "source": [
    "def add_ten():\n",
    "    ten = 10\n",
    "    def add(num):\n",
    "        return num + ten\n",
    "    return add\n",
    "\n",
    "closure_result = add_ten()\n",
    "print(closure_result.__closure__[0].cell_contents)\n",
    "print(closure_result(5))  # 15\n",
    "print(closure_result(10))  # 20"
   ],
   "id": "a7cb6f441e56c1c9",
   "outputs": [],
   "execution_count": null
  },
  {
   "metadata": {},
   "cell_type": "markdown",
   "source": [
    "## map()/filter()\n",
    "\n",
    "- map(): do something for every item and return to origin \n",
    "- filter(): filter something\n",
    "\n",
    "## map()"
   ],
   "id": "f05c2415660e9403"
  },
  {
   "metadata": {},
   "cell_type": "code",
   "source": [
    "numbers = [1, 2, 3, 4, 5] # iterable\n",
    "def square(x):\n",
    "    return x ** 2\n",
    "numbers_squared = map(square, numbers)\n",
    "print(list(numbers_squared))    # [1, 4, 9, 16, 25]\n",
    "# Lets apply it with a lambda function\n",
    "numbers_squared = map(lambda x : x ** 2, numbers)\n",
    "print(list(numbers_squared))    # [1, 4, 9, 16, 25]"
   ],
   "id": "efeeff54efd8a221",
   "outputs": [],
   "execution_count": null
  },
  {
   "metadata": {},
   "cell_type": "markdown",
   "source": "## filter()",
   "id": "d9042d54667fa921"
  },
  {
   "metadata": {},
   "cell_type": "code",
   "outputs": [],
   "execution_count": null,
   "source": [
    "\n",
    "numbers = [1, 2, 3, 4, 5]  # iterable\n",
    "\n",
    "def is_even(num): \n",
    "    \"\"\"\n",
    "    Returns True if num is even, False otherwise.\n",
    "    :param num: \n",
    "    :return: \n",
    "    \"\"\"\n",
    "    if num % 2 == 0:\n",
    "        return True\n",
    "    return False\n",
    "\n",
    "even_numbers = filter(is_even, numbers)\n",
    "print(list(even_numbers))       # [2, 4]\n",
    "\n",
    "names = ['Milaan', 'Arthur', 'Bill', 'Clark']  # iterable\n",
    "def is_name_long(name):\n",
    "    \"\"\"\n",
    "    Returns True if name is long, False otherwise.\n",
    "    :param name: \n",
    "    :return: \n",
    "    \"\"\"\n",
    "    if len(name) > 5:\n",
    "        return True\n",
    "    return False\n",
    "\n",
    "long_names = filter(is_name_long, names)\n",
    "print(list(long_names))         # ['Milaan', 'Arthur']"
   ],
   "id": "2d81f94480e3ae63"
  }
 ],
 "metadata": {
  "kernelspec": {
   "display_name": "Python 3",
   "language": "python",
   "name": "python3"
  },
  "language_info": {
   "codemirror_mode": {
    "name": "ipython",
    "version": 2
   },
   "file_extension": ".py",
   "mimetype": "text/x-python",
   "name": "python",
   "nbconvert_exporter": "python",
   "pygments_lexer": "ipython2",
   "version": "2.7.6"
  }
 },
 "nbformat": 4,
 "nbformat_minor": 5
}
