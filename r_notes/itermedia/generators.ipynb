{
 "cells": [
  {
   "metadata": {},
   "cell_type": "markdown",
   "source": [
    "# Generators\n",
    "\n",
    "- yield: yield to execute something \n",
    "- __iter__(),__next__()"
   ],
   "id": "b062480a2386a8cf"
  },
  {
   "metadata": {},
   "cell_type": "code",
   "source": [
    "def my_generator():\n",
    "  n=1\n",
    "  print('this is printed one')\n",
    "  yield n\n",
    "  n +=1\n",
    "  print(n)\n",
    "  print('this is printed two')\n",
    "  n +=1\n",
    "  print(n)\n",
    "  print('this is printed three')\n",
    "  yield n+1\n",
    "\n",
    "a= my_generator()\n",
    "print(next(a))\n",
    "print(next(a))\n",
    "for item in my_generator():\n",
    "  print(item)"
   ],
   "id": "25c617ac4048641e",
   "outputs": [],
   "execution_count": null
  },
  {
   "metadata": {},
   "cell_type": "markdown",
   "source": [
    "## Generator\n",
    "\n",
    "- Generator in list comprehensive\n",
    "- Memory Efficient: How?\n",
    "- Represent Infinite Stream: How and Why?"
   ],
   "id": "27414ea46789c522"
  },
  {
   "metadata": {},
   "cell_type": "code",
   "source": [
    "# Initialize the list\n",
    "my_list = [1, 3, 6, 10]\n",
    "\n",
    "# square each term using list comprehension\n",
    "list_ = [x**2 for x in my_list]\n",
    "\n",
    "# same thing can be done using a generator expression\n",
    "# generator expressions are surrounded by parenthesis ()\n",
    "generator = (x**2 for x in my_list)\n",
    "\n",
    "print(list_)\n",
    "print(generator)\n",
    "print(max(generator))\n",
    "generator = (x**2 for x in my_list)\n",
    "print(sum(generator))\n",
    "\n",
    "def pow_two_gen(max=0):\n",
    "  n=0\n",
    "  while n<max:\n",
    "    yield 2**n\n",
    "    n+=1\n",
    "\n",
    "for item in pow_two_gen(5):\n",
    "  print(item)"
   ],
   "id": "20860cb130f759a1",
   "outputs": [],
   "execution_count": null
  },
  {
   "metadata": {},
   "cell_type": "markdown",
   "source": [
    "## Pipeline Generator\n",
    "\n",
    "- How to make a pipeline generator"
   ],
   "id": "979b7e1e169ea173"
  },
  {
   "metadata": {},
   "cell_type": "code",
   "source": [
    "def fib_num(nums):\n",
    "  x,y=0,1\n",
    "  for _ in range(nums):\n",
    "    x,y=y,x+y\n",
    "    yield x\n",
    "\n",
    "def square_num(nums):\n",
    "  for num in nums:\n",
    "    yield num**2\n",
    "\n",
    "print(sum(square_num(fib_num(10)))) ## what this do?"
   ],
   "id": "d4d0d7e725d7298b",
   "outputs": [],
   "execution_count": null
  }
 ],
 "metadata": {
  "kernelspec": {
   "display_name": "Python 3",
   "language": "python",
   "name": "python3"
  },
  "language_info": {
   "codemirror_mode": {
    "name": "ipython",
    "version": 2
   },
   "file_extension": ".py",
   "mimetype": "text/x-python",
   "name": "python",
   "nbconvert_exporter": "python",
   "pygments_lexer": "ipython2",
   "version": "2.7.6"
  }
 },
 "nbformat": 4,
 "nbformat_minor": 5
}
